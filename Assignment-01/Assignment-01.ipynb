{
  "nbformat": 4,
  "nbformat_minor": 0,
  "metadata": {
    "colab": {
      "name": " Assignment-1__AI.ipynb",
      "provenance": []
    },
    "kernelspec": {
      "name": "python3",
      "display_name": "Python 3"
    }
  },
  "cells": [
    {
      "cell_type": "code",
      "metadata": {
        "colab": {
          "base_uri": "https://localhost:8080/"
        },
        "id": "mFXWztMUs4V7",
        "outputId": "15244fb2-8091-49d7-bfc0-a1f986c01ff1"
      },
      "source": [
        "from sympy import *\r\n",
        "x=Symbol('x')\r\n",
        "f=x**4+3*x**2+10\r\n",
        "#learning rate\r\n",
        "n=0.001\r\n",
        "max_iterations=1000\r\n",
        "iter=0\r\n",
        "fd=f.diff(x)\r\n",
        "f=lambdify(x,f)\r\n",
        "fd=lambdify(x,fd)\r\n",
        "x=10\r\n",
        "while iter<max_iterations:\r\n",
        "  x=x-(n*fd(x))\r\n",
        "  iter=iter+1\r\n",
        "else:\r\n",
        "  f=int(f(x))\r\n",
        "  x=int(x)\r\n",
        "  print(\"Minimun Value of f(x)=\"+str(f)+ \" at x=\"+str(x))"
      ],
      "execution_count": 34,
      "outputs": [
        {
          "output_type": "stream",
          "text": [
            "Minimun Value of f(x)=10 at x=0\n"
          ],
          "name": "stdout"
        }
      ]
    }
  ]
}