{
  "nbformat": 4,
  "nbformat_minor": 0,
  "metadata": {
    "colab": {
      "name": "Assignment-02.ipynb",
      "provenance": [],
      "collapsed_sections": []
    },
    "kernelspec": {
      "name": "python3",
      "display_name": "Python 3"
    }
  },
  "cells": [
    {
      "cell_type": "code",
      "metadata": {
        "id": "UWqj2vQeXMN4"
      },
      "source": [
        "#Initializing Variables\n",
        "#Let us Consider f(x,y)=x**2+y**2+10\n",
        "x=-1\n",
        "y=2\n",
        "epochs=1000\n",
        "n=0.01"
      ],
      "execution_count": 108,
      "outputs": []
    },
    {
      "cell_type": "code",
      "metadata": {
        "id": "HXBK5gQ2UULS"
      },
      "source": [
        "#derivative w.r.t x\n",
        "def der_x(x):\n",
        "  val=2*x\n",
        "  return val"
      ],
      "execution_count": 109,
      "outputs": []
    },
    {
      "cell_type": "code",
      "metadata": {
        "id": "kVwVS2QJUbv7"
      },
      "source": [
        "#derivative w.r.t y\n",
        "def der_y(y):\n",
        "  val=2*y\n",
        "  return val"
      ],
      "execution_count": 110,
      "outputs": []
    },
    {
      "cell_type": "code",
      "metadata": {
        "id": "TW8x7P-5Uuh3"
      },
      "source": [
        "iter=1"
      ],
      "execution_count": 111,
      "outputs": []
    },
    {
      "cell_type": "code",
      "metadata": {
        "id": "Vo8AtmwEU2ZR"
      },
      "source": [
        "while (iter<=epochs):\n",
        "  df_x=der_x(x)\n",
        "  df_y=der_y(y)\n",
        "\n",
        "  x1=(-1)*n*df_x\n",
        "  y1=(-1)*n*df_y\n",
        "\n",
        "  x=x+x1\n",
        "  y=y+y1\n",
        "\n",
        "  iter=iter+1"
      ],
      "execution_count": 112,
      "outputs": []
    },
    {
      "cell_type": "code",
      "metadata": {
        "colab": {
          "base_uri": "https://localhost:8080/"
        },
        "id": "wwwsGALwVwXP",
        "outputId": "75eca226-7aa9-4bf3-c57e-20a1dcc21e1d"
      },
      "source": [
        "print(str(x)+\"\\n\"+str(y))"
      ],
      "execution_count": 113,
      "outputs": [
        {
          "output_type": "stream",
          "text": [
            "-1.6829673572159529e-09\n",
            "3.3659347144319058e-09\n"
          ],
          "name": "stdout"
        }
      ]
    },
    {
      "cell_type": "code",
      "metadata": {
        "id": "J3SMVv2vWGLf"
      },
      "source": [
        "def f(x,y):\n",
        "  val=(x**2+y**2+10)\n",
        "  return val"
      ],
      "execution_count": 114,
      "outputs": []
    },
    {
      "cell_type": "code",
      "metadata": {
        "colab": {
          "base_uri": "https://localhost:8080/"
        },
        "id": "rr8Ct0CsWXoG",
        "outputId": "67597cbb-a6ec-41f4-f4c2-3f70a96044bc"
      },
      "source": [
        "print(\"Global Minimum Value of f(x,y)=\"+str(f(x,y))+\" at (x,y)=(\"+str(x)+\",\"+str(y)+\")\")"
      ],
      "execution_count": 115,
      "outputs": [
        {
          "output_type": "stream",
          "text": [
            "Global Minimum Value of f(x,y)=10.0 at (x,y)=(-1.6829673572159529e-09,3.3659347144319058e-09)\n"
          ],
          "name": "stdout"
        }
      ]
    }
  ]
}