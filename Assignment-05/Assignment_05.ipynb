{
  "nbformat": 4,
  "nbformat_minor": 0,
  "metadata": {
    "colab": {
      "name": "Assignment-05.ipynb",
      "provenance": []
    },
    "kernelspec": {
      "name": "python3",
      "display_name": "Python 3"
    },
    "language_info": {
      "name": "python"
    }
  },
  "cells": [
    {
      "cell_type": "code",
      "metadata": {
        "colab": {
          "base_uri": "https://localhost:8080/"
        },
        "id": "7waHSY0yiOiA",
        "outputId": "d89bc50b-e60e-40fe-f2cd-2e05d0f57f05"
      },
      "source": [
        "import numpy as np\n",
        "import pandas as pd\n",
        "import matplotlib.pyplot as plt\n",
        "import random\n",
        "\n",
        "data=np.array([[0.2,3.4],[0.4,3.8],[0.6,4.2],[0.8,4.6]])\n",
        "data"
      ],
      "execution_count": 5,
      "outputs": [
        {
          "output_type": "execute_result",
          "data": {
            "text/plain": [
              "array([[0.2, 3.4],\n",
              "       [0.4, 3.8],\n",
              "       [0.6, 4.2],\n",
              "       [0.8, 4.6]])"
            ]
          },
          "metadata": {
            "tags": []
          },
          "execution_count": 5
        }
      ]
    },
    {
      "cell_type": "code",
      "metadata": {
        "id": "MFTKG4aqiX0v"
      },
      "source": [
        "x=[]\n",
        "y=[]\n",
        "for i in range(0,len(data)):\n",
        "  x.append(data[i][0])\n",
        "for i in range(0,len(data)):\n",
        "  y.append(data[i][1])\n",
        "x=np.array(x)\n",
        "y=np.array(y)"
      ],
      "execution_count": 2,
      "outputs": []
    },
    {
      "cell_type": "code",
      "metadata": {
        "colab": {
          "base_uri": "https://localhost:8080/"
        },
        "id": "Rf4q1ZpAiqrg",
        "outputId": "d0a49dea-08d8-4f5b-f016-9e831ca825c9"
      },
      "source": [
        "bs=2\n",
        "nb=np.ceil(len(data)/bs)\n",
        "print(\"no of batches : \"+str(nb))"
      ],
      "execution_count": 4,
      "outputs": [
        {
          "output_type": "stream",
          "text": [
            "no of batches : 2.0\n"
          ],
          "name": "stdout"
        }
      ]
    },
    {
      "cell_type": "code",
      "metadata": {
        "colab": {
          "base_uri": "https://localhost:8080/"
        },
        "id": "jKh33Zo8jgqu",
        "outputId": "76d01618-67a2-4d26-c486-c8f2c67af416"
      },
      "source": [
        "# Shuffle Data\n",
        "samples=np.arange(len(data))\n",
        "random.shuffle(samples)\n",
        "samples"
      ],
      "execution_count": 39,
      "outputs": [
        {
          "output_type": "execute_result",
          "data": {
            "text/plain": [
              "array([0, 3, 2, 1])"
            ]
          },
          "metadata": {
            "tags": []
          },
          "execution_count": 39
        }
      ]
    },
    {
      "cell_type": "code",
      "metadata": {
        "colab": {
          "base_uri": "https://localhost:8080/"
        },
        "id": "hQMKnKzkkXvf",
        "outputId": "a4814287-daa0-4ba2-cd75-3692a9924b12"
      },
      "source": [
        "for i in samples:\n",
        "  print(x[i],y[i])"
      ],
      "execution_count": 40,
      "outputs": [
        {
          "output_type": "stream",
          "text": [
            "0.2 3.4\n",
            "0.8 4.6\n",
            "0.6 4.2\n",
            "0.4 3.8\n"
          ],
          "name": "stdout"
        }
      ]
    },
    {
      "cell_type": "code",
      "metadata": {
        "id": "ts0gvHHZkiZ0"
      },
      "source": [
        "m=1\n",
        "c=-1\n",
        "n=0.1\n",
        "iter=1\n",
        "epochs=100"
      ],
      "execution_count": 68,
      "outputs": []
    },
    {
      "cell_type": "code",
      "metadata": {
        "colab": {
          "base_uri": "https://localhost:8080/"
        },
        "id": "VdR5o3LLk0TB",
        "outputId": "43c0e4a5-47bc-415d-fe01-78b7a0ed47ee"
      },
      "source": [
        "while (iter<=epochs):\n",
        "  batch = 1\n",
        "  while (batch<=nb):\n",
        "    der_m=0\n",
        "    der_c=0\n",
        "    error=0\n",
        "    for i in range(0,bs):\n",
        "      der_m = der_m + (y[samples[i]] - (m*x[samples[i]]) - c)*x[samples[i]]\n",
        "      der_c = der_c + (y[samples[i]] - (m*x[samples[i]]) - c)\n",
        "    der_m = (-1/bs)*der_m\n",
        "    der_c = (-1/bs)*der_c\n",
        "\n",
        "    m_change = (-1)*n*der_m\n",
        "    c_change = (-1)*n*der_c\n",
        "\n",
        "    m = m + m_change\n",
        "    c = c + c_change\n",
        "\n",
        "    batch = batch + 1\n",
        "  iter = iter + 1\n",
        "print('Optimal values of m,c are : \\n'+str(m),str(c))"
      ],
      "execution_count": 69,
      "outputs": [
        {
          "output_type": "stream",
          "text": [
            "Optimal values of m,c are : \n",
            "2.2153100184997556 2.8841276270319187\n"
          ],
          "name": "stdout"
        }
      ]
    },
    {
      "cell_type": "code",
      "metadata": {
        "colab": {
          "base_uri": "https://localhost:8080/"
        },
        "id": "n8zXehZK0SHx",
        "outputId": "bacb5fdf-f3e6-4851-f5ef-a5306179804e"
      },
      "source": [
        "predict = []\n",
        "for i in range(0,len(data)):\n",
        "  predict.append(m*x[i]+c)\n",
        "predict"
      ],
      "execution_count": 70,
      "outputs": [
        {
          "output_type": "execute_result",
          "data": {
            "text/plain": [
              "[3.32718963073187, 3.770251634431821, 4.213313638131772, 4.6563756418317235]"
            ]
          },
          "metadata": {
            "tags": []
          },
          "execution_count": 70
        }
      ]
    },
    {
      "cell_type": "code",
      "metadata": {
        "colab": {
          "base_uri": "https://localhost:8080/"
        },
        "id": "pvKKmcef0uQj",
        "outputId": "94f963d7-20a8-40cf-fb9d-6f41b33002c1"
      },
      "source": [
        "# MSE\n",
        "\n",
        "mse=0\n",
        "for i in range(0,len(data)):\n",
        "  mse = mse + (y[i]-(predict[i]))**2\n",
        "mse =(1/len(data))*mse\n",
        "mse"
      ],
      "execution_count": 71,
      "outputs": [
        {
          "output_type": "execute_result",
          "data": {
            "text/plain": [
              "0.0023854452697955053"
            ]
          },
          "metadata": {
            "tags": []
          },
          "execution_count": 71
        }
      ]
    },
    {
      "cell_type": "code",
      "metadata": {
        "colab": {
          "base_uri": "https://localhost:8080/",
          "height": 279
        },
        "id": "u-2gyQEq1YVA",
        "outputId": "0d85deb3-5c78-4c6f-ac3c-c81b415922ae"
      },
      "source": [
        "plt.plot(x,y,'--',color='b',label='Original Data')\n",
        "plt.scatter(x,predict,color='r',label='Predicted Data')\n",
        "plt.xlabel('X-DATA')\n",
        "plt.ylabel('Y-DATA')\n",
        "plt.legend()\n",
        "plt.show()"
      ],
      "execution_count": 72,
      "outputs": [
        {
          "output_type": "display_data",
          "data": {
            "image/png": "[encoded data removed]",
            "text/plain": [
              "<Figure size 432x288 with 1 Axes>"
            ]
          },
          "metadata": {
            "tags": [],
            "needs_background": "light"
          }
        }
      ]
    }
  ]
}